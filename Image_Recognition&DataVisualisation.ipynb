{
  "nbformat": 4,
  "nbformat_minor": 0,
  "metadata": {
    "colab": {
      "name": "Image_Recognition&DataVisualisation.ipynb",
      "provenance": [],
      "authorship_tag": "ABX9TyPUTecRWzjRc8IRSpnDBVXO",
      "include_colab_link": true
    },
    "kernelspec": {
      "name": "python3",
      "display_name": "Python 3"
    },
    "language_info": {
      "name": "python"
    }
  },
  "cells": [
    {
      "cell_type": "markdown",
      "metadata": {
        "id": "view-in-github",
        "colab_type": "text"
      },
      "source": [
        "<a href=\"https://colab.research.google.com/github/DivyeshPanchalDP/Image_Recognition-DataVisualisation/blob/main/Image_Recognition%26DataVisualisation.ipynb\" target=\"_parent\"><img src=\"https://colab.research.google.com/assets/colab-badge.svg\" alt=\"Open In Colab\"/></a>"
      ]
    },
    {
      "cell_type": "markdown",
      "source": [
        "# **Image_Recognition-DataVisualisation**\n",
        "\n",
        "**UPLOAD kaggle.json i.e. API token from kaggle website**\n",
        "\n",
        "\n",
        "1. Install the Kaggle library\n",
        "\n",
        "`! pip install kaggle`\n",
        "\n",
        "\n",
        "\n",
        "2. Make a directory named “.kaggle”\n",
        "\n",
        "`! mkdir ~/.kaggle`\n",
        "3. Copy the “kaggle.json” into this new directory\n",
        "\n",
        "`! cp kaggle.json ~/.kaggle/`\n",
        "4. Allocate the required permission for this file.\n",
        "\n",
        "`! chmod 600 ~/.kaggle/kaggle.json`\n",
        "\n",
        "5. unzip file using\n",
        "\n",
        "!unzip filename "
      ],
      "metadata": {
        "id": "czbd3bn-t6iJ"
      }
    },
    {
      "cell_type": "code",
      "source": [
        "! pip install kaggle\n",
        "! mkdir ~/.kaggle\n",
        "! cp kaggle.json ~/.kaggle/\n",
        "! chmod 600 ~/.kaggle/kaggle.json\n",
        "\n",
        "!kaggle datasets download -d oddrationale/mnist-in-csv\n",
        "\n",
        "!unzip /content/mnist-in-csv.zip"
      ],
      "metadata": {
        "id": "_v6cjOpuyM2N"
      },
      "execution_count": null,
      "outputs": []
    },
    {
      "cell_type": "markdown",
      "source": [
        "Tip : Load Kaggle Credentials from Google Drive\n",
        "In step 3, you uploaded the “kaggle.json” when executing the notebook. All the files uploaded in the storage provided while running the notebook are not retained after the termination of the notebook.\n",
        "\n",
        "It means that you need to upload the JSON file every time the notebook is reloaded or restarted. To avoid this manual work,\n",
        "\n",
        "1. Simply upload the “kaggle.json” to your Google Drive. For simplicity, upload it in the root folder rather than any folder structure.\n",
        "2. Next, mount the drive to your notebook:\n",
        "3. The initial command for installing the Kaggle library and creating a directory named “.kaggle” remains the same:\n",
        "\n",
        "`! pip install kaggle`\n",
        "\n",
        "`! mkdir ~/.kaggle`\n",
        "4. Now, you need to copy the “kaggle.json” file from the mounted google drive to the current instance storage. The Google drive is mounted under the “./content/drive/MyDrive”  path. Just run the copy command as used in Linux:\n",
        "\n",
        "`!cp /content/drive/MyDrive/kaggle.json ~/.kaggle/kaggle.json`\n",
        "\n",
        "Now you can easily use your Kaggle competitions and datasets command to download the datasets. This method has the added advantage of not uploading the credential file on every notebook re-run.\n",
        "\n"
      ],
      "metadata": {
        "id": "bVXqX1Dl2Q-G"
      }
    },
    {
      "cell_type": "code",
      "source": [
        "! pip install kaggle\n",
        "! mkdir ~/.kaggle\n",
        "!cp /content/drive/MyDrive/kaggle.json ~/.kaggle/kaggle.json\n",
        "!kaggle datasets download -d oddrationale/mnist-in-csv\n",
        "\n",
        "!unzip /content/mnist-in-csv.zip"
      ],
      "metadata": {
        "id": "A5ff4NJA2Qd0"
      },
      "execution_count": null,
      "outputs": []
    },
    {
      "cell_type": "code",
      "source": [
        "import numpy as np\n",
        "import pandas as pd \n",
        "import time\n",
        "import seaborn as sb \n",
        "import matplotlib.pyplot as plt\n",
        "import tensorflow as tf\n",
        "\n",
        "from sklearn import tree,naive_bayes,neighbors\n",
        "from sklearn.metrics import accuracy_score,confusion_matrix"
      ],
      "metadata": {
        "id": "YS3SBOs6wC2a"
      },
      "execution_count": 24,
      "outputs": []
    },
    {
      "cell_type": "code",
      "source": [
        "train=pd.read_csv(\"/content/mnist_test.csv\")\n",
        "features_train=np.array(train.drop(['label'],'columns'))\n",
        "labels_train=np.array(train['label'])\n",
        "clf=tree.DecisionTreeClassifier()"
      ],
      "metadata": {
        "id": "h8618erPvB_R"
      },
      "execution_count": 40,
      "outputs": []
    },
    {
      "cell_type": "code",
      "source": [
        "t1 = time.time()\n",
        "clf=neighbors.KNeighborsClassifier()\n",
        "clf.fit(features_train,labels_train)\n",
        "t2 = time.time()\n",
        "print(\"time\", t2-t1)"
      ],
      "metadata": {
        "colab": {
          "base_uri": "https://localhost:8080/"
        },
        "id": "DZpvrl0AvjGf",
        "outputId": "79fd8f35-ac74-4325-eef3-f8975b5dd6f9"
      },
      "execution_count": 41,
      "outputs": [
        {
          "output_type": "stream",
          "name": "stdout",
          "text": [
            "time 0.0030260086059570312\n"
          ]
        }
      ]
    },
    {
      "cell_type": "code",
      "source": [
        "t3 = time.time()\n",
        "pre=clf.predict(features_train)\n",
        "t4 = time.time()\n",
        "print('time test', t4-t3)"
      ],
      "metadata": {
        "colab": {
          "base_uri": "https://localhost:8080/"
        },
        "id": "Fkg3DncIvokr",
        "outputId": "77e657d2-fe6e-4c2e-d6e7-343cf993758c"
      },
      "execution_count": 42,
      "outputs": [
        {
          "output_type": "stream",
          "name": "stdout",
          "text": [
            "time test 4.909836530685425\n"
          ]
        }
      ]
    },
    {
      "cell_type": "code",
      "source": [
        "print(\"prediction-\", pre)\n",
        "print(\"actual values-\", labels_train)\n",
        "acc=accuracy_score(pre,labels_train)\n",
        "print(\"aacuracy=\",acc)"
      ],
      "metadata": {
        "colab": {
          "base_uri": "https://localhost:8080/"
        },
        "id": "uugbeZHGvrEY",
        "outputId": "93bd8cbe-2a2f-4954-b2da-9c73aed0ae1f"
      },
      "execution_count": 43,
      "outputs": [
        {
          "output_type": "stream",
          "name": "stdout",
          "text": [
            "prediction- [7 2 1 ... 4 5 6]\n",
            "actual values- [7 2 1 ... 4 5 6]\n",
            "aacuracy= 0.9706\n"
          ]
        }
      ]
    },
    {
      "cell_type": "code",
      "source": [
        "x=52\n",
        "print(\"predicted text\", pre[x])\n",
        "print(\"actual digit\", labels_train[x])\n",
        "digit=features_train[x]\n",
        "digit_pixels=digit.reshape(28,28)\n",
        "plt.imshow(digit_pixels, cmap='gray_r')\n",
        "plt.show()"
      ],
      "metadata": {
        "colab": {
          "base_uri": "https://localhost:8080/",
          "height": 300
        },
        "id": "5KtiiG16vvAh",
        "outputId": "941ae722-77d6-4681-abb3-9f20dc5118d8"
      },
      "execution_count": 44,
      "outputs": [
        {
          "output_type": "stream",
          "name": "stdout",
          "text": [
            "predicted text 5\n",
            "actual digit 5\n"
          ]
        },
        {
          "output_type": "display_data",
          "data": {
            "image/png": "[encoded data removed]",
            "text/plain": [
              "<Figure size 432x288 with 1 Axes>"
            ]
          },
          "metadata": {
            "needs_background": "light"
          }
        }
      ]
    },
    {
      "cell_type": "code",
      "source": [
        "cm=confusion_matrix(labels_train,pre)\n",
        "print(\"confusion matrix\")\n",
        "print(cm)\n"
      ],
      "metadata": {
        "colab": {
          "base_uri": "https://localhost:8080/"
        },
        "id": "T_Aulyw3vxZU",
        "outputId": "24b5832b-1ca6-4e3d-c4ce-7839d06b7ef2"
      },
      "execution_count": 45,
      "outputs": [
        {
          "output_type": "stream",
          "name": "stdout",
          "text": [
            "confusion matrix\n",
            "[[ 971    1    0    0    0    3    4    1    0    0]\n",
            " [   0 1132    2    1    0    0    0    0    0    0]\n",
            " [   9   10  987    4    0    0    2   18    2    0]\n",
            " [   0    3    2  988    0    4    0    8    2    3]\n",
            " [   0    8    1    0  946    0    3    0    0   24]\n",
            " [   4    3    0   17    1  858    4    1    1    3]\n",
            " [   5    4    0    0    1    0  947    0    1    0]\n",
            " [   0   21    2    0    2    0    0  996    0    7]\n",
            " [   3    7    4   20    5   10    2    5  916    2]\n",
            " [   4    6    3    7    9    0    1   12    2  965]]\n"
          ]
        }
      ]
    },
    {
      "cell_type": "code",
      "source": [
        "axis=plt.subplot()\n",
        "sb.heatmap(cm,ax=axis,annot=True)\n",
        "axis.set_xlabel(\"prediction\")\n",
        "axis.set_ylabel(\"actual numbers\")\n",
        "axis.set_title(\"Kneighors\")\n",
        "plt.show()"
      ],
      "metadata": {
        "colab": {
          "base_uri": "https://localhost:8080/",
          "height": 295
        },
        "id": "YJL5bTAvv973",
        "outputId": "818f7dee-02d5-4054-9030-11cd09e92d39"
      },
      "execution_count": 46,
      "outputs": [
        {
          "output_type": "display_data",
          "data": {
            "image/png": "[encoded data removed]",
            "text/plain": [
              "<Figure size 432x288 with 2 Axes>"
            ]
          },
          "metadata": {
            "needs_background": "light"
          }
        }
      ]
    },
    {
      "cell_type": "code",
      "source": [
        "!git config --global user.email \"divyesh.panchal.566.com\"\n",
        "! git config --global user.name \"DivyeshPanchalDP\"\n",
        "!git init\n",
        "!git add -A\n",
        "!git commit -m \"Commiting project to git\"\n",
        "!git remote add origin https://github.com/DivyeshPanchalDP/Image_Recognition-DataVisualisation.git\n",
        "!git branch -M main\n",
        "!git push -u origin main\n"
      ],
      "metadata": {
        "colab": {
          "base_uri": "https://localhost:8080/"
        },
        "id": "XN-DoFJH6Lvz",
        "outputId": "92f9f41c-a1ab-4795-ebb0-28636f4ccaa3"
      },
      "execution_count": 54,
      "outputs": [
        {
          "output_type": "stream",
          "name": "stdout",
          "text": [
            "Reinitialized existing Git repository in /content/.git/\n",
            "On branch main\n",
            "nothing to commit, working tree clean\n",
            "fatal: remote origin already exists.\n",
            "fatal: could not read Username for 'https://github.com': No such device or address\n"
          ]
        }
      ]
    }
  ]
}